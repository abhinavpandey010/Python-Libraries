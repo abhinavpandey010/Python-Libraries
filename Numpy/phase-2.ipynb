{
 "cells": [
  {
   "cell_type": "markdown",
   "id": "247cefb4",
   "metadata": {},
   "source": [
    "### Numpy array operations"
   ]
  },
  {
   "cell_type": "code",
   "execution_count": 2,
   "id": "6113b94c",
   "metadata": {},
   "outputs": [],
   "source": [
    "import numpy as np"
   ]
  },
  {
   "cell_type": "code",
   "execution_count": 8,
   "id": "ab9f91ed",
   "metadata": {},
   "outputs": [
    {
     "name": "stdout",
     "output_type": "stream",
     "text": [
      "Basics slicing:  [3 4 5 6 7]\n",
      "basic step:  [2 4 6 8]\n",
      "negative indexing:  9\n"
     ]
    }
   ],
   "source": [
    "arr = np.array([1,2,3,4,5,6,7,8,9,10])\n",
    "print('Basics slicing: ',arr[2:7])\n",
    "print('basic step: ', arr[1:9:2])\n",
    "print('negative indexing: ', arr[-2])"
   ]
  },
  {
   "cell_type": "code",
   "execution_count": 13,
   "id": "02c1b1bf",
   "metadata": {},
   "outputs": [
    {
     "name": "stdout",
     "output_type": "stream",
     "text": [
      "specific element:  6\n",
      "entire row:  [4 5 6]\n",
      "entire column:  [2 5 8]\n"
     ]
    }
   ],
   "source": [
    "arr_2d = np.array([[1,2,3],\n",
    "                   [4,5,6],\n",
    "                   [7,8,9]])\n",
    "print('specific element: ',arr_2d[1,2])\n",
    "print('entire row: ', arr_2d[1])\n",
    "print('entire column: ', arr_2d[:,1])"
   ]
  },
  {
   "cell_type": "markdown",
   "id": "a6fc2af5",
   "metadata": {},
   "source": [
    "## sorting"
   ]
  },
  {
   "cell_type": "code",
   "execution_count": 18,
   "id": "651ba4e4",
   "metadata": {},
   "outputs": [
    {
     "name": "stdout",
     "output_type": "stream",
     "text": [
      "sorted array [ 1  2  3  5  6  7  8  9 10]\n",
      "sorted 2d array by column:  [[1 1]\n",
      " [2 2]\n",
      " [3 3]]\n",
      "sorted 2d array by row:  [[1 3]\n",
      " [1 2]\n",
      " [2 3]]\n"
     ]
    }
   ],
   "source": [
    "unsorted = np.array([3,5,1,2,7,6,8,10,9])\n",
    "print('sorted array', np.sort(unsorted))\n",
    "\n",
    "arr_2d_unsorted = np.array([[3,1],[1,2],[2,3]])\n",
    "print('sorted 2d array by column: ', np.sort(arr_2d_unsorted,axis=0))\n",
    "print('sorted 2d array by row: ', np.sort(arr_2d_unsorted,axis=1))"
   ]
  },
  {
   "cell_type": "markdown",
   "id": "8dfea389",
   "metadata": {},
   "source": [
    "## Filter"
   ]
  },
  {
   "cell_type": "code",
   "execution_count": 6,
   "id": "8b4c8bdf",
   "metadata": {},
   "outputs": [
    {
     "name": "stdout",
     "output_type": "stream",
     "text": [
      "Even numbers:  [ 2  4  6  8 10]\n"
     ]
    }
   ],
   "source": [
    "numbers  = np.array([1,2,3,4,5,6,7,8,9,10])\n",
    "even_num = numbers[numbers % 2 == 0]\n",
    "print('Even numbers: ', even_num)"
   ]
  },
  {
   "cell_type": "markdown",
   "id": "11ab41fe",
   "metadata": {},
   "source": [
    "## Filter with mask"
   ]
  },
  {
   "cell_type": "code",
   "execution_count": 8,
   "id": "f8a42600",
   "metadata": {},
   "outputs": [
    {
     "name": "stdout",
     "output_type": "stream",
     "text": [
      "Numbers greater than 5  [ 6  7  8  9 10]\n"
     ]
    }
   ],
   "source": [
    "mask = numbers > 5\n",
    "print('Numbers greater than 5 ', numbers[mask])"
   ]
  },
  {
   "cell_type": "markdown",
   "id": "f3edda53",
   "metadata": {},
   "source": [
    "## Fancy indexing and np.where()"
   ]
  },
  {
   "cell_type": "code",
   "execution_count": 13,
   "id": "7032b723",
   "metadata": {},
   "outputs": [
    {
     "name": "stdout",
     "output_type": "stream",
     "text": [
      "[1 3 5]\n",
      "(array([5, 6, 7, 8, 9]),)\n",
      "NP where  [ 6  7  8  9 10]\n"
     ]
    }
   ],
   "source": [
    "indices = [0, 2, 4]\n",
    "print(numbers[indices])\n",
    "\n",
    "where_results = np.where(numbers > 5)\n",
    "print(where_results)\n",
    "print('NP where ',numbers[where_results])"
   ]
  },
  {
   "cell_type": "code",
   "execution_count": 18,
   "id": "418d5193",
   "metadata": {},
   "outputs": [
    {
     "name": "stdout",
     "output_type": "stream",
     "text": [
      "[ 1  2  3  4  5 12 14 16 18 20]\n",
      "['False' 'False' 'False' 'False' 'False' 'True' 'True' 'True' 'True'\n",
      " 'True']\n"
     ]
    }
   ],
   "source": [
    "condition_array1 = np.where(numbers > 5, numbers*2, numbers)\n",
    "condition_array2 = np.where(numbers > 5, 'True', 'False')\n",
    "print(condition_array1)\n",
    "print(condition_array2)"
   ]
  },
  {
   "cell_type": "markdown",
   "id": "58a8a2f9",
   "metadata": {},
   "source": [
    "## Adding and removing data"
   ]
  },
  {
   "cell_type": "code",
   "execution_count": 24,
   "id": "eacd65c4",
   "metadata": {},
   "outputs": [
    {
     "name": "stdout",
     "output_type": "stream",
     "text": [
      "combined array:  [ 6  8 10 12]\n",
      "[1 2 3 4 5 6 7 8]\n"
     ]
    }
   ],
   "source": [
    "arr1 = np.array([1, 2, 3, 4])\n",
    "arr2 = np.array([5, 6, 7, 8])\n",
    "# it simply add values of arrays\n",
    "combined_array = arr1 + arr2\n",
    "print('combined array: ',combined_array)\n",
    "# it simply combine two arrays in single array\n",
    "combine = np.concatenate((arr1,arr2))\n",
    "print(combine)"
   ]
  },
  {
   "cell_type": "markdown",
   "id": "6d90c8d2",
   "metadata": {},
   "source": [
    "## Array compatibility"
   ]
  },
  {
   "cell_type": "code",
   "execution_count": 27,
   "id": "8ee0291a",
   "metadata": {},
   "outputs": [
    {
     "name": "stdout",
     "output_type": "stream",
     "text": [
      "Compability shapes True\n",
      "Compability shapes False\n"
     ]
    }
   ],
   "source": [
    "a = np.array([1,2,3])\n",
    "b = np.array([4,5,6])\n",
    "c = np.array([7,8,9,10])\n",
    "\n",
    "print('Compability shapes',a.shape == b.shape)\n",
    "print('Compability shapes',a.shape == c.shape)"
   ]
  },
  {
   "cell_type": "code",
   "execution_count": 39,
   "id": "593e44b5",
   "metadata": {},
   "outputs": [
    {
     "name": "stdout",
     "output_type": "stream",
     "text": [
      "original array\n",
      " [[1 2]\n",
      " [3 4]]\n",
      "with new row\n",
      " [[1 2]\n",
      " [3 4]\n",
      " [5 6]]\n",
      "with new column\n",
      " [[1 2 7]\n",
      " [3 4 8]]\n"
     ]
    }
   ],
   "source": [
    "original = np.array([[1,2],[3,4]])\n",
    "new_row = np.array([[5,6]])\n",
    "# this will add new row in to original row\n",
    "with_newrow = np.vstack((original,new_row))\n",
    "\n",
    "print('original array\\n',original)\n",
    "print('with new row\\n',with_newrow)\n",
    "\n",
    "new_col = np.array([[7],[8]])\n",
    "with_newcol = np.hstack((original,new_col))\n",
    "print('with new column\\n',with_newcol)"
   ]
  },
  {
   "cell_type": "code",
   "execution_count": 41,
   "id": "83c6ad9a",
   "metadata": {},
   "outputs": [
    {
     "name": "stdout",
     "output_type": "stream",
     "text": [
      "array after deletion:  [1 2 4 5]\n"
     ]
    }
   ],
   "source": [
    "arr = np.array([1,2,3,4,5])\n",
    "deleted = np.delete(arr,2)\n",
    "print('array after deletion: ',deleted)"
   ]
  },
  {
   "cell_type": "code",
   "execution_count": null,
   "id": "44807044",
   "metadata": {},
   "outputs": [],
   "source": []
  }
 ],
 "metadata": {
  "kernelspec": {
   "display_name": "venv",
   "language": "python",
   "name": "python3"
  },
  "language_info": {
   "codemirror_mode": {
    "name": "ipython",
    "version": 3
   },
   "file_extension": ".py",
   "mimetype": "text/x-python",
   "name": "python",
   "nbconvert_exporter": "python",
   "pygments_lexer": "ipython3",
   "version": "3.13.3"
  }
 },
 "nbformat": 4,
 "nbformat_minor": 5
}
