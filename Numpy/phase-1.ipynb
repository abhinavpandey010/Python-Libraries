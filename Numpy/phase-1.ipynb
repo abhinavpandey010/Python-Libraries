{
 "cells": [
  {
   "cell_type": "markdown",
   "id": "59f12120",
   "metadata": {},
   "source": [
    "## Numpy array and basics"
   ]
  },
  {
   "cell_type": "code",
   "execution_count": 5,
   "id": "05266563",
   "metadata": {},
   "outputs": [],
   "source": [
    "import numpy as np"
   ]
  },
  {
   "cell_type": "markdown",
   "id": "e32f893b",
   "metadata": {},
   "source": [
    "## creating array from list"
   ]
  },
  {
   "cell_type": "code",
   "execution_count": 2,
   "id": "e9c8e549",
   "metadata": {},
   "outputs": [
    {
     "name": "stdout",
     "output_type": "stream",
     "text": [
      "1D array:  [1 2 3 4]\n",
      "2d array:  [[1 2 3]\n",
      " [4 5 6]]\n"
     ]
    }
   ],
   "source": [
    "arr_1d = np.array([1,2,3,4])\n",
    "print(\"1D array: \", arr_1d)\n",
    "arr_2d = np.array([[1,2,3],[4,5,6]])\n",
    "print(\"2d array: \", arr_2d)"
   ]
  },
  {
   "cell_type": "markdown",
   "id": "112adbd4",
   "metadata": {},
   "source": [
    "### List vs numpy array"
   ]
  },
  {
   "cell_type": "code",
   "execution_count": 8,
   "id": "89bd9ed3",
   "metadata": {},
   "outputs": [
    {
     "name": "stdout",
     "output_type": "stream",
     "text": [
      "python list multiplication  [1, 2, 3, 1, 2, 3]\n",
      "python array multiplication  [2 4 6]\n",
      "/n list operation time:  4.322539329528809\n",
      "/n numpy array operation time:  0.5452303886413574\n"
     ]
    }
   ],
   "source": [
    "py_list = [1,2,3]\n",
    "print(\"python list multiplication \", py_list * 2)\n",
    "\n",
    "np_array = np.array([1,2,3])\n",
    "print(\"python array multiplication \", np_array * 2)\n",
    "\n",
    "\n",
    "import time\n",
    "\n",
    "start = time.time()\n",
    "py_list = [i*2 for i in range(100000000)]\n",
    "print('/n list operation time: ', time.time() - start)\n",
    "\n",
    "start = time.time()\n",
    "np_array = np.arange(100000000) * 2\n",
    "print('/n numpy array operation time: ', time.time() - start)\n"
   ]
  },
  {
   "cell_type": "markdown",
   "id": "fb8371ea",
   "metadata": {},
   "source": [
    "### Creating array from scratch"
   ]
  },
  {
   "cell_type": "code",
   "execution_count": null,
   "id": "4c820720",
   "metadata": {},
   "outputs": [
    {
     "name": "stdout",
     "output_type": "stream",
     "text": [
      "zeros array:\n",
      " [[0. 0. 0. 0.]\n",
      " [0. 0. 0. 0.]\n",
      " [0. 0. 0. 0.]]\n",
      "one array:\n",
      " [[1. 1. 1.]\n",
      " [1. 1. 1.]]\n",
      "Full array:\n",
      " [[7 7]\n",
      " [7 7]]\n",
      "random array:\n",
      " [[0.05046171 0.94968977]\n",
      " [0.99124804 0.77384372]]\n",
      "sequence array:\n",
      " [0 2 4 6 8]\n"
     ]
    }
   ],
   "source": [
    "zeros = np.zeros((3,4))\n",
    "print('zeros array:\\n',zeros)\n",
    "\n",
    "ones = np.ones((2,3))\n",
    "print('one array:\\n', ones)\n",
    "\n",
    "full = np.full((2,2),7)\n",
    "print('Full array:\\n',full)\n",
    "\n",
    "random = np.random.random((2,2))\n",
    "print('random array:\\n',random)\n",
    "\n",
    "sequence = np.arange(0,10,2)\n",
    "print('sequence array:\\n',sequence)"
   ]
  },
  {
   "cell_type": "markdown",
   "id": "1c82a0fa",
   "metadata": {},
   "source": [
    "### Vector, Matrix, Tensor"
   ]
  },
  {
   "cell_type": "code",
   "execution_count": 14,
   "id": "9cc80831",
   "metadata": {},
   "outputs": [
    {
     "name": "stdout",
     "output_type": "stream",
     "text": [
      "vector array: \n",
      " [1 2 3]\n",
      "matrix array: \n",
      " [[1 2 3]\n",
      " [4 5 6]]\n",
      "tensor array:\n",
      "  [[[1 2]\n",
      "  [3 4]]\n",
      "\n",
      " [[5 6]\n",
      "  [7 8]]]\n"
     ]
    }
   ],
   "source": [
    "vector = np.array([1,2,3])\n",
    "print('vector array: \\n',vector)\n",
    "\n",
    "matrix = np.array([[1,2,3],\n",
    "                   [4,5,6]])\n",
    "print('matrix array: \\n',matrix)\n",
    "\n",
    "tensor = np.array([[[1,2],[3,4]],\n",
    "                   [[5,6],[7,8]]])\n",
    "print('tensor array:\\n ', tensor)"
   ]
  },
  {
   "cell_type": "markdown",
   "id": "9e840011",
   "metadata": {},
   "source": [
    "### Array Properties"
   ]
  },
  {
   "cell_type": "code",
   "execution_count": null,
   "id": "5a24459b",
   "metadata": {},
   "outputs": [
    {
     "name": "stdout",
     "output_type": "stream",
     "text": [
      "Shape:  (2, 3)\n",
      "Dimension:  2\n",
      "Size:  6\n",
      "Dtype:  int64\n"
     ]
    }
   ],
   "source": [
    "arr = np.array([[1,2,3],\n",
    "                [4,5,6]])\n",
    "print('Shape: ',arr.shape)\n",
    "print('Dimension: ',arr.ndim)\n",
    "print('Size: ',arr.size)\n",
    "print('Dtype: ',arr.dtype)"
   ]
  },
  {
   "cell_type": "markdown",
   "id": "e15396fb",
   "metadata": {},
   "source": [
    "### Array reshaping"
   ]
  },
  {
   "cell_type": "code",
   "execution_count": 7,
   "id": "48ec9206",
   "metadata": {},
   "outputs": [
    {
     "name": "stdout",
     "output_type": "stream",
     "text": [
      "reshaped array: \n",
      " [[ 0  1  2  3]\n",
      " [ 4  5  6  7]\n",
      " [ 8  9 10 11]]\n",
      "Flattend array:\n",
      " [ 0  1  2  3  4  5  6  7  8  9 10 11]\n",
      "ravelled array:\n",
      " [ 0  1  2  3  4  5  6  7  8  9 10 11]\n",
      "Transpose array: \n",
      " [[ 0  4  8]\n",
      " [ 1  5  9]\n",
      " [ 2  6 10]\n",
      " [ 3  7 11]]\n"
     ]
    }
   ],
   "source": [
    "arr = np.arange(12)\n",
    "\n",
    "reshaped = arr.reshape((3,4))\n",
    "print('reshaped array: \\n',reshaped)\n",
    "\n",
    "# flatten return copy\n",
    "flattend = reshaped.flatten()\n",
    "print('Flattend array:\\n',flattend)\n",
    "\n",
    "#ravel (returns view, instead of copy)\n",
    "ravelled = flattend.ravel()\n",
    "print('ravelled array:\\n',ravelled)\n",
    "\n",
    "# Transpose\n",
    "transpose = reshaped.T \n",
    "print('Transpose array: \\n', transpose)"
   ]
  }
 ],
 "metadata": {
  "kernelspec": {
   "display_name": "venv",
   "language": "python",
   "name": "python3"
  },
  "language_info": {
   "codemirror_mode": {
    "name": "ipython",
    "version": 3
   },
   "file_extension": ".py",
   "mimetype": "text/x-python",
   "name": "python",
   "nbconvert_exporter": "python",
   "pygments_lexer": "ipython3",
   "version": "3.13.3"
  }
 },
 "nbformat": 4,
 "nbformat_minor": 5
}
